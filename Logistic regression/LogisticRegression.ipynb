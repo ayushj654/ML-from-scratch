{
 "cells": [
  {
   "cell_type": "code",
   "execution_count": 1,
   "metadata": {},
   "outputs": [],
   "source": [
    "import pandas as pd\n",
    "import numpy as np"
   ]
  },
  {
   "cell_type": "code",
   "execution_count": 2,
   "metadata": {},
   "outputs": [],
   "source": [
    "def sigmoid(x):\n",
    "    return 1/(1+np.exp(-x))"
   ]
  },
  {
   "cell_type": "code",
   "execution_count": 4,
   "metadata": {},
   "outputs": [],
   "source": [
    "class LogisticRegression:\n",
    "    def __init__(self,learning_rate = 0.01,iterations = 1000):\n",
    "        self.lr = learning_rate\n",
    "        self.W = None\n",
    "        self.iter = iterations\n",
    "        pass\n",
    "\n",
    "    def fit(self, X,y):\n",
    "        X_b = np.insert(X,0,1,axis=1)\n",
    "        self.W = np.random.randn(X_b.shape[1])\n",
    "        for _ in range(self.iter):\n",
    "            y_hat = sigmoid(X_b.dot(self.W))\n",
    "            error = y_hat - y\n",
    "            grad = X_b.T.dot(error)/y.shape[0]\n",
    "            self.W -= self.lr*grad\n",
    "\n",
    "    def predict_proba(self, X):\n",
    "        X_b = np.insert(X,0,1,axis =1)\n",
    "        return sigmoid(X_b.dot(self.W))\n",
    "\n",
    "    def predict_label(self, X):\n",
    "        probs = self.predict_proba(X)\n",
    "        return [1 if p >=0.5 else 0 for p in probs]\n",
    "    \n",
    "\n",
    "\n"
   ]
  },
  {
   "cell_type": "code",
   "execution_count": null,
   "metadata": {},
   "outputs": [],
   "source": []
  }
 ],
 "metadata": {
  "kernelspec": {
   "display_name": ".venv",
   "language": "python",
   "name": "python3"
  },
  "language_info": {
   "codemirror_mode": {
    "name": "ipython",
    "version": 3
   },
   "file_extension": ".py",
   "mimetype": "text/x-python",
   "name": "python",
   "nbconvert_exporter": "python",
   "pygments_lexer": "ipython3",
   "version": "3.11.9"
  }
 },
 "nbformat": 4,
 "nbformat_minor": 2
}
