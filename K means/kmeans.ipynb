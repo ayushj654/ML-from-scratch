{
 "cells": [
  {
   "cell_type": "code",
   "execution_count": null,
   "metadata": {},
   "outputs": [],
   "source": [
    "import pandas as pandas\n",
    "import numpy as np"
   ]
  },
  {
   "cell_type": "markdown",
   "metadata": {},
   "source": [
    "Kmeans algorithm:\n",
    "\n",
    "1. Decide # clusters\n",
    "2. select random centroids\n",
    "3. assign labels to the points\n",
    "4. move centroids\n",
    "5. check finish"
   ]
  },
  {
   "cell_type": "code",
   "execution_count": null,
   "metadata": {},
   "outputs": [],
   "source": [
    "class kmeans:\n",
    "    def __init__(self,k,data):\n",
    "        self.k = k\n",
    "        self.data = data\n",
    "        self.centroids = self.data.sample(n=self.k)\n",
    "        self.clusters = []\n",
    "        self.old_clusters = []\n",
    "        self.distances = []\n",
    "        self.old_distances = []\n",
    "        self.iterations = 0\n",
    "        self.converged = False\n",
    "\n",
    "    def distance(self, X, y):\n",
    "        return np.linalg.norm(X-y)\n",
    "    \n",
    "    def fit(self):\n",
    "\n",
    "        while not self.converged:\n",
    "            self.iterations +=1\n",
    "            self.old_clusters = self.clusters\n",
    "            self.clusters = []\n",
    "            self.old_distances = self.distances\n",
    "            self.distances = []\n",
    "            for i in range(self.k):\n",
    "                self.clusters.append([])\n",
    "                self.distances.append([])\n",
    "            for index, row in self.data.iterrows():\n",
    "                distances = []\n",
    "                for i in range(self.k):\n",
    "                    distances.append(self.distance(row,self.centroids.iloc[i]))\n",
    "                self.clusters[distances.index(min(distances))].append(row)\n",
    "                self.distances[distances.index(min(distances))].append(min(distances))"
   ]
  },
  {
   "cell_type": "code",
   "execution_count": null,
   "metadata": {},
   "outputs": [],
   "source": []
  }
 ],
 "metadata": {
  "kernelspec": {
   "display_name": ".venv",
   "language": "python",
   "name": "python3"
  },
  "language_info": {
   "name": "python",
   "version": "3.11.9"
  }
 },
 "nbformat": 4,
 "nbformat_minor": 2
}
